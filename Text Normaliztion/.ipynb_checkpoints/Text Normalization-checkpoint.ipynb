{
 "cells": [
  {
   "cell_type": "code",
   "execution_count": 6,
   "metadata": {},
   "outputs": [],
   "source": [
    "import nltk\n",
    "nltk.download('all')\n",
    "import re\n",
    "import string\n",
    "from bs4 import BeautifulSoup\n",
    "!pip install contractions\n",
    "import contractions"
   ]
  },
  {
   "cell_type": "code",
   "execution_count": 18,
   "metadata": {},
   "outputs": [],
   "source": [
    "class TextNormalizer:\n",
    "    \"\"\"\n",
    "    Text Normalizer class normalizes text\n",
    "    \"\"\"\n",
    "    def __init__(self ):\n",
    "        pass\n",
    "    \n",
    "    def normalize(self, text, clean=True, rm_stopwords=True, rm_special_chars=True, \n",
    "                  expand_conts=True, caseConvert=False, lemmatize=True, stem=True):\n",
    "        \"\"\"\n",
    "        clean->Boolean: Extracts text from html or xml documents , \n",
    "        rm_stopwords->Boolean: Removes stop words, \n",
    "        rm_special_chars->Boolean: Removes special characters, \n",
    "        expand_conts->Boolean: Expands contractions, \n",
    "        caseConvert->Boolean: Converts text to upper/lower case , \n",
    "        lemmatize->Boolean: Lemmatizes the text to its root form, \n",
    "        stem->Boolean: Stems the text\n",
    "        \"\"\"\n",
    "        if clean:\n",
    "            text=self.cleanText(text)\n",
    "        if expand_conts:\n",
    "            text=self.expandContractions(text)\n",
    "        if lemmatize:\n",
    "            text=self.lemmatizeText(text)\n",
    "        if stem:\n",
    "            text=self.stemText(text)\n",
    "        if rm_stopwords:\n",
    "            text=self.removeStopwords(text)\n",
    "        if rm_special_chars:\n",
    "            text=self.removeSpecialChars(text)\n",
    "        if caseConvert:\n",
    "            text=self.caseConvert(text, True)\n",
    "        else:\n",
    "            text=self.caseConvert(text, False)\n",
    "        return text\n",
    "        \n",
    "    def caseConvert(self, text, upper=True):\n",
    "        pass\n",
    "    \n",
    "    def cleanText(self, page):\n",
    "        pass\n",
    "    \n",
    "    def tokenizeText(self,text):\n",
    "        pass \n",
    "    \n",
    "    def removeStopwords(self, text):\n",
    "        pass\n",
    "    \n",
    "    def removeSpecialChars(self,text):\n",
    "        pass\n",
    "    \n",
    "    def expandContractions(self, text):\n",
    "        pass\n",
    "    \n",
    "    def lemmatizeText(self, text):\n",
    "        pass\n",
    "    \n",
    "    def stemText(self, text):\n",
    "        pass\n"
   ]
  },
  {
   "cell_type": "code",
   "execution_count": 17,
   "metadata": {},
   "outputs": [
    {
     "name": "stdout",
     "output_type": "stream",
     "text": [
      "None\n"
     ]
    }
   ],
   "source": [
    "if __name__ == \"__main__\":\n",
    "    tn= TextNormalizer()\n",
    "    normalized_text=tn.normalize(\"The quick fox couldn't jump over the lazy dog\")\n",
    "    print(normalized_text)"
   ]
  },
  {
   "cell_type": "code",
   "execution_count": null,
   "metadata": {},
   "outputs": [],
   "source": []
  },
  {
   "cell_type": "code",
   "execution_count": 26,
   "metadata": {},
   "outputs": [],
   "source": []
  },
  {
   "cell_type": "code",
   "execution_count": null,
   "metadata": {},
   "outputs": [],
   "source": []
  },
  {
   "cell_type": "code",
   "execution_count": null,
   "metadata": {},
   "outputs": [],
   "source": []
  }
 ],
 "metadata": {
  "kernelspec": {
   "display_name": "Python 3",
   "language": "python",
   "name": "python3"
  },
  "language_info": {
   "codemirror_mode": {
    "name": "ipython",
    "version": 3
   },
   "file_extension": ".py",
   "mimetype": "text/x-python",
   "name": "python",
   "nbconvert_exporter": "python",
   "pygments_lexer": "ipython3",
   "version": "3.7.3"
  }
 },
 "nbformat": 4,
 "nbformat_minor": 2
}
